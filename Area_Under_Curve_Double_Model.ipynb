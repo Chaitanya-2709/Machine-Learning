{
  "nbformat": 4,
  "nbformat_minor": 0,
  "metadata": {
    "colab": {
      "provenance": []
    },
    "kernelspec": {
      "name": "python3",
      "display_name": "Python 3"
    },
    "language_info": {
      "name": "python"
    }
  },
  "cells": [
    {
      "cell_type": "code",
      "execution_count": 1,
      "metadata": {
        "id": "UggsejHqR3IU"
      },
      "outputs": [],
      "source": [
        "import numpy as np\n",
        "import pandas as pd\n",
        "import matplotlib.pyplot as plt\n",
        "import seaborn as sns\n",
        "sns.set_style('whitegrid')"
      ]
    },
    {
      "cell_type": "code",
      "source": [
        "from sklearn.datasets import make_classification"
      ],
      "metadata": {
        "id": "3F7bFuWsSLfS"
      },
      "execution_count": 2,
      "outputs": []
    },
    {
      "cell_type": "code",
      "source": [
        "X,y = make_classification(n_samples=1000,n_classes=2,n_features=4,random_state=0)"
      ],
      "metadata": {
        "id": "wwFDnfOiSeS4"
      },
      "execution_count": 3,
      "outputs": []
    },
    {
      "cell_type": "code",
      "source": [
        "X"
      ],
      "metadata": {
        "colab": {
          "base_uri": "https://localhost:8080/"
        },
        "id": "9ooPUF1QSy2z",
        "outputId": "06b2d3a8-f448-41b1-9ca4-f5daecf8db6b"
      },
      "execution_count": 4,
      "outputs": [
        {
          "output_type": "execute_result",
          "data": {
            "text/plain": [
              "array([[ 1.27815198, -0.41644753,  0.89181112,  0.77129444],\n",
              "       [ 1.35681817, -1.51465569,  1.82132242,  0.42081175],\n",
              "       [ 1.53341056,  2.06290707, -1.01967188,  1.87609016],\n",
              "       ...,\n",
              "       [-1.08088061,  0.73346984, -1.06509337, -0.51078102],\n",
              "       [-0.23987598,  0.68072159, -0.65872606,  0.07881505],\n",
              "       [ 0.84630137,  1.68659877, -1.00967878,  1.23877466]])"
            ]
          },
          "metadata": {},
          "execution_count": 4
        }
      ]
    },
    {
      "cell_type": "code",
      "source": [
        "X.shape"
      ],
      "metadata": {
        "colab": {
          "base_uri": "https://localhost:8080/"
        },
        "id": "25FmuZkKSzOw",
        "outputId": "d3db1489-462e-4be8-e316-14b25a58259c"
      },
      "execution_count": 5,
      "outputs": [
        {
          "output_type": "execute_result",
          "data": {
            "text/plain": [
              "(1000, 4)"
            ]
          },
          "metadata": {},
          "execution_count": 5
        }
      ]
    },
    {
      "cell_type": "code",
      "source": [
        "y"
      ],
      "metadata": {
        "colab": {
          "base_uri": "https://localhost:8080/"
        },
        "id": "BelSA1L8TBRN",
        "outputId": "3e618b57-cf73-476a-bff4-8f1dd0cae8bd"
      },
      "execution_count": 6,
      "outputs": [
        {
          "output_type": "execute_result",
          "data": {
            "text/plain": [
              "array([1, 1, 1, 1, 0, 1, 0, 1, 1, 0, 0, 0, 1, 0, 0, 0, 0, 0, 0, 0, 1, 1,\n",
              "       0, 0, 1, 0, 1, 1, 1, 0, 0, 0, 1, 0, 1, 0, 0, 0, 0, 1, 1, 0, 0, 0,\n",
              "       0, 0, 0, 1, 1, 1, 0, 0, 0, 1, 0, 1, 0, 1, 0, 1, 1, 0, 0, 1, 0, 0,\n",
              "       0, 0, 0, 1, 0, 0, 0, 1, 0, 0, 0, 0, 1, 1, 0, 0, 0, 1, 1, 1, 1, 1,\n",
              "       1, 1, 1, 1, 0, 1, 1, 1, 1, 1, 0, 0, 1, 1, 1, 1, 1, 1, 0, 0, 0, 1,\n",
              "       0, 0, 0, 0, 0, 1, 0, 0, 1, 1, 1, 1, 0, 1, 0, 0, 0, 1, 1, 1, 0, 1,\n",
              "       1, 0, 1, 0, 0, 0, 1, 0, 0, 1, 1, 1, 0, 1, 1, 0, 0, 0, 0, 0, 1, 0,\n",
              "       0, 1, 0, 1, 0, 1, 1, 0, 1, 1, 1, 1, 0, 1, 1, 1, 1, 1, 0, 1, 0, 1,\n",
              "       1, 1, 0, 1, 1, 0, 0, 0, 1, 0, 0, 1, 1, 1, 1, 0, 0, 1, 0, 1, 0, 1,\n",
              "       0, 1, 1, 1, 1, 0, 0, 0, 0, 1, 1, 1, 1, 0, 1, 1, 0, 0, 0, 1, 0, 1,\n",
              "       1, 1, 0, 1, 1, 0, 1, 0, 1, 1, 1, 1, 0, 0, 1, 0, 0, 0, 1, 1, 1, 0,\n",
              "       0, 1, 0, 1, 1, 1, 0, 0, 1, 0, 0, 0, 1, 1, 1, 1, 0, 1, 0, 0, 0, 1,\n",
              "       0, 1, 0, 1, 0, 1, 0, 1, 1, 0, 0, 1, 1, 0, 1, 1, 0, 0, 1, 1, 0, 1,\n",
              "       0, 0, 0, 0, 0, 0, 0, 1, 1, 1, 0, 1, 0, 0, 0, 0, 0, 1, 0, 0, 1, 0,\n",
              "       0, 0, 1, 1, 1, 0, 0, 0, 1, 0, 0, 0, 1, 0, 0, 1, 0, 1, 1, 0, 1, 1,\n",
              "       0, 0, 0, 1, 0, 1, 0, 0, 1, 1, 0, 0, 0, 1, 0, 1, 0, 1, 0, 0, 0, 0,\n",
              "       0, 1, 1, 0, 1, 0, 0, 1, 0, 1, 0, 1, 1, 1, 1, 0, 1, 1, 0, 1, 1, 1,\n",
              "       1, 0, 1, 1, 0, 1, 1, 1, 0, 1, 0, 0, 1, 1, 0, 1, 1, 0, 1, 0, 1, 0,\n",
              "       0, 1, 0, 1, 1, 1, 0, 1, 1, 0, 0, 0, 0, 1, 1, 1, 0, 0, 0, 0, 0, 0,\n",
              "       0, 0, 1, 0, 0, 1, 1, 1, 0, 1, 0, 1, 0, 0, 1, 1, 1, 1, 0, 0, 0, 1,\n",
              "       1, 0, 1, 1, 1, 1, 1, 1, 0, 1, 0, 0, 1, 0, 1, 0, 1, 0, 0, 0, 0, 1,\n",
              "       1, 1, 1, 0, 1, 1, 0, 1, 1, 1, 0, 0, 1, 0, 0, 0, 1, 1, 1, 1, 1, 0,\n",
              "       1, 0, 0, 0, 1, 0, 1, 1, 0, 1, 0, 1, 0, 1, 0, 0, 0, 1, 1, 0, 1, 1,\n",
              "       1, 0, 1, 0, 1, 1, 0, 0, 0, 0, 1, 1, 1, 0, 1, 0, 1, 1, 0, 1, 1, 0,\n",
              "       1, 0, 0, 1, 0, 0, 1, 0, 0, 1, 0, 1, 0, 0, 1, 0, 0, 1, 1, 1, 1, 0,\n",
              "       1, 0, 1, 0, 1, 0, 0, 1, 1, 1, 1, 1, 1, 0, 1, 1, 1, 0, 1, 1, 1, 0,\n",
              "       0, 0, 0, 0, 1, 0, 0, 1, 0, 0, 1, 0, 1, 1, 1, 0, 0, 0, 1, 1, 1, 0,\n",
              "       0, 1, 1, 1, 1, 0, 0, 1, 0, 1, 0, 0, 1, 0, 0, 0, 0, 0, 1, 0, 1, 0,\n",
              "       0, 0, 1, 0, 1, 1, 0, 1, 0, 0, 0, 1, 1, 1, 1, 0, 0, 1, 0, 0, 1, 1,\n",
              "       0, 1, 1, 0, 0, 1, 0, 1, 0, 0, 0, 1, 1, 0, 0, 0, 1, 1, 0, 1, 1, 0,\n",
              "       1, 1, 1, 0, 0, 1, 1, 0, 0, 0, 0, 1, 0, 0, 0, 0, 0, 0, 0, 1, 0, 0,\n",
              "       0, 1, 1, 0, 0, 1, 1, 1, 1, 1, 1, 1, 0, 0, 1, 1, 0, 1, 1, 1, 1, 1,\n",
              "       1, 0, 1, 1, 0, 0, 0, 0, 0, 1, 1, 1, 0, 0, 1, 0, 1, 0, 0, 1, 0, 0,\n",
              "       0, 0, 0, 0, 0, 0, 1, 1, 1, 0, 0, 1, 1, 1, 1, 1, 1, 0, 0, 1, 1, 1,\n",
              "       1, 1, 1, 1, 1, 1, 0, 0, 1, 0, 0, 1, 0, 0, 1, 0, 1, 0, 0, 1, 0, 1,\n",
              "       1, 0, 0, 1, 1, 1, 1, 1, 0, 0, 0, 1, 0, 1, 0, 0, 1, 0, 0, 1, 0, 1,\n",
              "       1, 1, 1, 1, 0, 1, 1, 0, 1, 0, 0, 1, 0, 1, 1, 1, 1, 0, 1, 0, 1, 0,\n",
              "       0, 0, 1, 1, 1, 1, 1, 1, 1, 1, 0, 1, 1, 1, 1, 0, 1, 1, 0, 1, 1, 1,\n",
              "       1, 1, 0, 1, 0, 1, 1, 0, 0, 1, 0, 1, 0, 1, 1, 1, 0, 1, 0, 1, 0, 0,\n",
              "       0, 0, 1, 1, 1, 0, 1, 0, 1, 0, 1, 0, 0, 1, 0, 1, 0, 0, 1, 0, 1, 1,\n",
              "       1, 0, 1, 0, 1, 1, 0, 1, 0, 0, 0, 1, 0, 1, 0, 0, 0, 0, 0, 0, 0, 0,\n",
              "       1, 0, 1, 0, 1, 1, 0, 1, 1, 1, 1, 1, 0, 0, 0, 0, 1, 0, 1, 1, 0, 0,\n",
              "       1, 1, 1, 0, 1, 0, 1, 1, 0, 1, 0, 0, 1, 1, 0, 0, 1, 0, 1, 1, 1, 0,\n",
              "       0, 0, 1, 0, 1, 0, 0, 0, 0, 1, 0, 0, 1, 0, 0, 1, 0, 0, 0, 0, 1, 1,\n",
              "       0, 0, 1, 1, 0, 0, 1, 0, 0, 0, 0, 0, 0, 1, 1, 0, 0, 1, 1, 0, 1, 0,\n",
              "       1, 1, 0, 1, 0, 0, 0, 0, 1, 1])"
            ]
          },
          "metadata": {},
          "execution_count": 6
        }
      ]
    },
    {
      "cell_type": "code",
      "source": [
        "from sklearn.model_selection import train_test_split"
      ],
      "metadata": {
        "id": "T_tcg2MDTB-s"
      },
      "execution_count": 7,
      "outputs": []
    },
    {
      "cell_type": "code",
      "source": [
        "X_train,X_test,y_train,y_test = train_test_split(X,y,test_size=0.2,random_state=0)"
      ],
      "metadata": {
        "id": "pqWDSABKTIg2"
      },
      "execution_count": 8,
      "outputs": []
    },
    {
      "cell_type": "code",
      "source": [
        "X_train.shape"
      ],
      "metadata": {
        "colab": {
          "base_uri": "https://localhost:8080/"
        },
        "id": "rmpdLkZrTa3D",
        "outputId": "2384c747-ff00-4948-b094-0863860cb786"
      },
      "execution_count": 9,
      "outputs": [
        {
          "output_type": "execute_result",
          "data": {
            "text/plain": [
              "(800, 4)"
            ]
          },
          "metadata": {},
          "execution_count": 9
        }
      ]
    },
    {
      "cell_type": "code",
      "source": [
        "X_test.shape"
      ],
      "metadata": {
        "colab": {
          "base_uri": "https://localhost:8080/"
        },
        "id": "7MC4ypGmTdgF",
        "outputId": "8058c753-0a17-4295-b7a2-17cd95b0d23d"
      },
      "execution_count": 10,
      "outputs": [
        {
          "output_type": "execute_result",
          "data": {
            "text/plain": [
              "(200, 4)"
            ]
          },
          "metadata": {},
          "execution_count": 10
        }
      ]
    },
    {
      "cell_type": "code",
      "source": [
        "from sklearn.linear_model import LogisticRegression\n",
        "from sklearn.neighbors import KNeighborsClassifier"
      ],
      "metadata": {
        "id": "TD09_rj9Tgcw"
      },
      "execution_count": 11,
      "outputs": []
    },
    {
      "cell_type": "code",
      "source": [
        "model1 = LogisticRegression()\n",
        "model2 = KNeighborsClassifier(n_neighbors= 5)"
      ],
      "metadata": {
        "id": "MLKgHN3z67S1"
      },
      "execution_count": 12,
      "outputs": []
    },
    {
      "cell_type": "code",
      "source": [
        "model1.fit(X_train,y_train)\n",
        "model2.fit(X_train,y_train)"
      ],
      "metadata": {
        "colab": {
          "base_uri": "https://localhost:8080/",
          "height": 75
        },
        "id": "q2Aye0R97G1g",
        "outputId": "0e45dcbf-a372-4581-dc18-b35578f75ede"
      },
      "execution_count": 13,
      "outputs": [
        {
          "output_type": "execute_result",
          "data": {
            "text/plain": [
              "KNeighborsClassifier()"
            ],
            "text/html": [
              "<style>#sk-container-id-1 {color: black;background-color: white;}#sk-container-id-1 pre{padding: 0;}#sk-container-id-1 div.sk-toggleable {background-color: white;}#sk-container-id-1 label.sk-toggleable__label {cursor: pointer;display: block;width: 100%;margin-bottom: 0;padding: 0.3em;box-sizing: border-box;text-align: center;}#sk-container-id-1 label.sk-toggleable__label-arrow:before {content: \"▸\";float: left;margin-right: 0.25em;color: #696969;}#sk-container-id-1 label.sk-toggleable__label-arrow:hover:before {color: black;}#sk-container-id-1 div.sk-estimator:hover label.sk-toggleable__label-arrow:before {color: black;}#sk-container-id-1 div.sk-toggleable__content {max-height: 0;max-width: 0;overflow: hidden;text-align: left;background-color: #f0f8ff;}#sk-container-id-1 div.sk-toggleable__content pre {margin: 0.2em;color: black;border-radius: 0.25em;background-color: #f0f8ff;}#sk-container-id-1 input.sk-toggleable__control:checked~div.sk-toggleable__content {max-height: 200px;max-width: 100%;overflow: auto;}#sk-container-id-1 input.sk-toggleable__control:checked~label.sk-toggleable__label-arrow:before {content: \"▾\";}#sk-container-id-1 div.sk-estimator input.sk-toggleable__control:checked~label.sk-toggleable__label {background-color: #d4ebff;}#sk-container-id-1 div.sk-label input.sk-toggleable__control:checked~label.sk-toggleable__label {background-color: #d4ebff;}#sk-container-id-1 input.sk-hidden--visually {border: 0;clip: rect(1px 1px 1px 1px);clip: rect(1px, 1px, 1px, 1px);height: 1px;margin: -1px;overflow: hidden;padding: 0;position: absolute;width: 1px;}#sk-container-id-1 div.sk-estimator {font-family: monospace;background-color: #f0f8ff;border: 1px dotted black;border-radius: 0.25em;box-sizing: border-box;margin-bottom: 0.5em;}#sk-container-id-1 div.sk-estimator:hover {background-color: #d4ebff;}#sk-container-id-1 div.sk-parallel-item::after {content: \"\";width: 100%;border-bottom: 1px solid gray;flex-grow: 1;}#sk-container-id-1 div.sk-label:hover label.sk-toggleable__label {background-color: #d4ebff;}#sk-container-id-1 div.sk-serial::before {content: \"\";position: absolute;border-left: 1px solid gray;box-sizing: border-box;top: 0;bottom: 0;left: 50%;z-index: 0;}#sk-container-id-1 div.sk-serial {display: flex;flex-direction: column;align-items: center;background-color: white;padding-right: 0.2em;padding-left: 0.2em;position: relative;}#sk-container-id-1 div.sk-item {position: relative;z-index: 1;}#sk-container-id-1 div.sk-parallel {display: flex;align-items: stretch;justify-content: center;background-color: white;position: relative;}#sk-container-id-1 div.sk-item::before, #sk-container-id-1 div.sk-parallel-item::before {content: \"\";position: absolute;border-left: 1px solid gray;box-sizing: border-box;top: 0;bottom: 0;left: 50%;z-index: -1;}#sk-container-id-1 div.sk-parallel-item {display: flex;flex-direction: column;z-index: 1;position: relative;background-color: white;}#sk-container-id-1 div.sk-parallel-item:first-child::after {align-self: flex-end;width: 50%;}#sk-container-id-1 div.sk-parallel-item:last-child::after {align-self: flex-start;width: 50%;}#sk-container-id-1 div.sk-parallel-item:only-child::after {width: 0;}#sk-container-id-1 div.sk-dashed-wrapped {border: 1px dashed gray;margin: 0 0.4em 0.5em 0.4em;box-sizing: border-box;padding-bottom: 0.4em;background-color: white;}#sk-container-id-1 div.sk-label label {font-family: monospace;font-weight: bold;display: inline-block;line-height: 1.2em;}#sk-container-id-1 div.sk-label-container {text-align: center;}#sk-container-id-1 div.sk-container {/* jupyter's `normalize.less` sets `[hidden] { display: none; }` but bootstrap.min.css set `[hidden] { display: none !important; }` so we also need the `!important` here to be able to override the default hidden behavior on the sphinx rendered scikit-learn.org. See: https://github.com/scikit-learn/scikit-learn/issues/21755 */display: inline-block !important;position: relative;}#sk-container-id-1 div.sk-text-repr-fallback {display: none;}</style><div id=\"sk-container-id-1\" class=\"sk-top-container\"><div class=\"sk-text-repr-fallback\"><pre>KNeighborsClassifier()</pre><b>In a Jupyter environment, please rerun this cell to show the HTML representation or trust the notebook. <br />On GitHub, the HTML representation is unable to render, please try loading this page with nbviewer.org.</b></div><div class=\"sk-container\" hidden><div class=\"sk-item\"><div class=\"sk-estimator sk-toggleable\"><input class=\"sk-toggleable__control sk-hidden--visually\" id=\"sk-estimator-id-1\" type=\"checkbox\" checked><label for=\"sk-estimator-id-1\" class=\"sk-toggleable__label sk-toggleable__label-arrow\">KNeighborsClassifier</label><div class=\"sk-toggleable__content\"><pre>KNeighborsClassifier()</pre></div></div></div></div></div>"
            ]
          },
          "metadata": {},
          "execution_count": 13
        }
      ]
    },
    {
      "cell_type": "code",
      "source": [
        "pred1 = model1.fit(X_train,y_train)\n",
        "pred2 = model2.fit(X_train,y_train)"
      ],
      "metadata": {
        "id": "SfhsG4Fi7QWS"
      },
      "execution_count": 14,
      "outputs": []
    },
    {
      "cell_type": "code",
      "source": [
        "pred1 = model1.predict(X_test)\n",
        "pred2 = model2.predict(X_test)"
      ],
      "metadata": {
        "id": "yse_YqdC7qZO"
      },
      "execution_count": 17,
      "outputs": []
    },
    {
      "cell_type": "code",
      "source": [
        "pred1"
      ],
      "metadata": {
        "colab": {
          "base_uri": "https://localhost:8080/"
        },
        "id": "7MfqpaU9CUHa",
        "outputId": "6e9a4bfa-f50d-4aa3-9826-4b34e982fc24"
      },
      "execution_count": 18,
      "outputs": [
        {
          "output_type": "execute_result",
          "data": {
            "text/plain": [
              "array([1, 0, 0, 0, 0, 1, 1, 1, 1, 1, 0, 0, 1, 1, 1, 1, 1, 1, 0, 0, 0, 1,\n",
              "       1, 1, 0, 0, 0, 1, 0, 1, 1, 1, 1, 0, 0, 0, 0, 1, 1, 1, 1, 0, 0, 0,\n",
              "       0, 1, 1, 1, 1, 0, 0, 1, 0, 1, 1, 1, 1, 0, 0, 0, 1, 1, 1, 1, 1, 0,\n",
              "       0, 1, 0, 1, 1, 0, 1, 1, 1, 0, 1, 0, 1, 1, 0, 1, 1, 1, 1, 1, 0, 1,\n",
              "       1, 0, 1, 0, 0, 1, 0, 0, 1, 0, 0, 0, 1, 1, 0, 1, 0, 1, 1, 1, 1, 0,\n",
              "       1, 0, 1, 1, 1, 0, 1, 1, 0, 0, 0, 1, 0, 0, 1, 0, 1, 1, 0, 0, 1, 1,\n",
              "       1, 1, 1, 0, 1, 1, 0, 1, 0, 0, 1, 0, 1, 1, 0, 0, 0, 1, 1, 0, 0, 0,\n",
              "       0, 1, 0, 0, 1, 0, 0, 1, 1, 1, 0, 0, 1, 1, 0, 0, 0, 1, 1, 1, 0, 1,\n",
              "       1, 0, 0, 0, 1, 1, 1, 0, 0, 0, 0, 0, 1, 0, 1, 0, 1, 1, 1, 1, 0, 0,\n",
              "       0, 0])"
            ]
          },
          "metadata": {},
          "execution_count": 18
        }
      ]
    },
    {
      "cell_type": "code",
      "source": [
        "pred2"
      ],
      "metadata": {
        "colab": {
          "base_uri": "https://localhost:8080/"
        },
        "id": "ZBSAnDFCCobn",
        "outputId": "9e2c08c2-b967-4b5e-9f91-f8718f37ec04"
      },
      "execution_count": 19,
      "outputs": [
        {
          "output_type": "execute_result",
          "data": {
            "text/plain": [
              "array([1, 0, 0, 0, 0, 1, 1, 1, 1, 1, 0, 0, 1, 1, 1, 1, 1, 1, 0, 0, 0, 1,\n",
              "       1, 1, 0, 0, 0, 1, 0, 1, 1, 1, 1, 0, 0, 0, 0, 1, 1, 1, 1, 0, 0, 0,\n",
              "       0, 1, 1, 1, 1, 0, 0, 1, 0, 1, 1, 1, 1, 0, 0, 0, 1, 1, 1, 1, 1, 0,\n",
              "       0, 1, 0, 1, 1, 0, 1, 1, 1, 0, 1, 0, 1, 1, 0, 1, 1, 1, 1, 1, 0, 1,\n",
              "       1, 0, 1, 0, 0, 1, 0, 0, 1, 0, 0, 0, 1, 1, 0, 1, 0, 1, 1, 1, 1, 0,\n",
              "       1, 0, 1, 1, 1, 0, 1, 0, 0, 0, 0, 1, 0, 0, 1, 0, 1, 1, 0, 0, 1, 1,\n",
              "       1, 1, 1, 0, 1, 1, 0, 1, 0, 0, 1, 0, 1, 1, 0, 0, 0, 1, 1, 0, 0, 0,\n",
              "       0, 1, 0, 0, 1, 0, 0, 1, 1, 1, 0, 0, 1, 1, 0, 0, 0, 1, 1, 1, 0, 1,\n",
              "       1, 0, 0, 0, 1, 1, 1, 0, 0, 0, 0, 0, 1, 0, 1, 0, 1, 1, 1, 1, 0, 0,\n",
              "       0, 0])"
            ]
          },
          "metadata": {},
          "execution_count": 19
        }
      ]
    },
    {
      "cell_type": "code",
      "source": [
        "y_test"
      ],
      "metadata": {
        "colab": {
          "base_uri": "https://localhost:8080/"
        },
        "id": "Ni9LFv9ACpfI",
        "outputId": "e5800fe8-6417-4888-d5b0-de142812570f"
      },
      "execution_count": 20,
      "outputs": [
        {
          "output_type": "execute_result",
          "data": {
            "text/plain": [
              "array([1, 0, 0, 0, 0, 1, 1, 1, 1, 1, 0, 1, 0, 1, 0, 1, 1, 1, 0, 0, 0, 1,\n",
              "       1, 1, 0, 0, 0, 1, 0, 1, 1, 0, 1, 0, 0, 0, 0, 1, 1, 1, 1, 0, 0, 0,\n",
              "       0, 1, 1, 1, 1, 0, 0, 1, 0, 1, 1, 1, 1, 0, 0, 0, 1, 1, 1, 1, 0, 0,\n",
              "       0, 1, 0, 1, 1, 0, 1, 1, 1, 0, 1, 0, 1, 1, 0, 1, 1, 1, 1, 1, 0, 1,\n",
              "       1, 0, 1, 0, 0, 1, 0, 0, 1, 0, 0, 0, 0, 1, 0, 1, 0, 1, 1, 1, 1, 0,\n",
              "       1, 0, 1, 1, 1, 0, 1, 0, 0, 0, 0, 1, 0, 0, 1, 0, 1, 1, 0, 0, 1, 1,\n",
              "       1, 1, 1, 0, 1, 1, 0, 1, 1, 0, 1, 0, 1, 1, 0, 0, 0, 1, 1, 0, 1, 0,\n",
              "       0, 1, 0, 0, 1, 0, 0, 1, 1, 1, 0, 0, 1, 1, 0, 0, 0, 1, 1, 1, 0, 1,\n",
              "       1, 0, 0, 0, 1, 1, 1, 0, 0, 0, 0, 0, 1, 0, 1, 0, 1, 1, 1, 1, 0, 0,\n",
              "       0, 0])"
            ]
          },
          "metadata": {},
          "execution_count": 20
        }
      ]
    },
    {
      "cell_type": "code",
      "source": [
        "from sklearn.metrics import confusion_matrix,classification_report"
      ],
      "metadata": {
        "id": "s0j24DbNCrm6"
      },
      "execution_count": 21,
      "outputs": []
    },
    {
      "cell_type": "code",
      "source": [
        "print(confusion_matrix(y_test,pred1))"
      ],
      "metadata": {
        "colab": {
          "base_uri": "https://localhost:8080/"
        },
        "id": "fc4-4uFuC2E_",
        "outputId": "700562f8-0fb5-4f7d-d1a7-3989ceb196b9"
      },
      "execution_count": 22,
      "outputs": [
        {
          "output_type": "stream",
          "name": "stdout",
          "text": [
            "[[ 89   6]\n",
            " [  3 102]]\n"
          ]
        }
      ]
    },
    {
      "cell_type": "code",
      "source": [
        "print(confusion_matrix(y_test,pred2))"
      ],
      "metadata": {
        "colab": {
          "base_uri": "https://localhost:8080/"
        },
        "id": "CHb7a2wxC_nd",
        "outputId": "59071c22-160a-49bc-ba99-091f8f84c54b"
      },
      "execution_count": 24,
      "outputs": [
        {
          "output_type": "stream",
          "name": "stdout",
          "text": [
            "[[ 90   5]\n",
            " [  3 102]]\n"
          ]
        }
      ]
    },
    {
      "cell_type": "code",
      "source": [
        "print(classification_report(y_test,pred2))"
      ],
      "metadata": {
        "colab": {
          "base_uri": "https://localhost:8080/"
        },
        "id": "t8E2KjmwDIVt",
        "outputId": "073fff8a-8ffc-4289-f6a0-fd04e6fd172c"
      },
      "execution_count": 26,
      "outputs": [
        {
          "output_type": "stream",
          "name": "stdout",
          "text": [
            "              precision    recall  f1-score   support\n",
            "\n",
            "           0       0.97      0.95      0.96        95\n",
            "           1       0.95      0.97      0.96       105\n",
            "\n",
            "    accuracy                           0.96       200\n",
            "   macro avg       0.96      0.96      0.96       200\n",
            "weighted avg       0.96      0.96      0.96       200\n",
            "\n"
          ]
        }
      ]
    },
    {
      "cell_type": "code",
      "source": [
        "pred1"
      ],
      "metadata": {
        "colab": {
          "base_uri": "https://localhost:8080/"
        },
        "id": "9oAMMobfDXvq",
        "outputId": "85996a7f-8e06-4327-fd97-3455aa67435b"
      },
      "execution_count": 27,
      "outputs": [
        {
          "output_type": "execute_result",
          "data": {
            "text/plain": [
              "array([1, 0, 0, 0, 0, 1, 1, 1, 1, 1, 0, 0, 1, 1, 1, 1, 1, 1, 0, 0, 0, 1,\n",
              "       1, 1, 0, 0, 0, 1, 0, 1, 1, 1, 1, 0, 0, 0, 0, 1, 1, 1, 1, 0, 0, 0,\n",
              "       0, 1, 1, 1, 1, 0, 0, 1, 0, 1, 1, 1, 1, 0, 0, 0, 1, 1, 1, 1, 1, 0,\n",
              "       0, 1, 0, 1, 1, 0, 1, 1, 1, 0, 1, 0, 1, 1, 0, 1, 1, 1, 1, 1, 0, 1,\n",
              "       1, 0, 1, 0, 0, 1, 0, 0, 1, 0, 0, 0, 1, 1, 0, 1, 0, 1, 1, 1, 1, 0,\n",
              "       1, 0, 1, 1, 1, 0, 1, 1, 0, 0, 0, 1, 0, 0, 1, 0, 1, 1, 0, 0, 1, 1,\n",
              "       1, 1, 1, 0, 1, 1, 0, 1, 0, 0, 1, 0, 1, 1, 0, 0, 0, 1, 1, 0, 0, 0,\n",
              "       0, 1, 0, 0, 1, 0, 0, 1, 1, 1, 0, 0, 1, 1, 0, 0, 0, 1, 1, 1, 0, 1,\n",
              "       1, 0, 0, 0, 1, 1, 1, 0, 0, 0, 0, 0, 1, 0, 1, 0, 1, 1, 1, 1, 0, 0,\n",
              "       0, 0])"
            ]
          },
          "metadata": {},
          "execution_count": 27
        }
      ]
    },
    {
      "cell_type": "code",
      "source": [
        "pred_proba1 = model1.predict_proba(X_test)\n",
        "pred_proba2 = model2.predict_proba(X_test)"
      ],
      "metadata": {
        "id": "St_UvlbLDiWN"
      },
      "execution_count": 34,
      "outputs": []
    },
    {
      "cell_type": "code",
      "source": [
        "pred_proba1.round(3)"
      ],
      "metadata": {
        "colab": {
          "base_uri": "https://localhost:8080/"
        },
        "id": "un3eBwd6D02Z",
        "outputId": "73a6a04b-0f38-43df-c5d3-fb261fb3ceb6"
      },
      "execution_count": 35,
      "outputs": [
        {
          "output_type": "execute_result",
          "data": {
            "text/plain": [
              "array([[0.004, 0.996],\n",
              "       [0.962, 0.038],\n",
              "       [0.99 , 0.01 ],\n",
              "       [0.937, 0.063],\n",
              "       [0.999, 0.001],\n",
              "       [0.124, 0.876],\n",
              "       [0.001, 0.999],\n",
              "       [0.002, 0.998],\n",
              "       [0.   , 1.   ],\n",
              "       [0.014, 0.986],\n",
              "       [0.984, 0.016],\n",
              "       [0.91 , 0.09 ],\n",
              "       [0.195, 0.805],\n",
              "       [0.235, 0.765],\n",
              "       [0.314, 0.686],\n",
              "       [0.03 , 0.97 ],\n",
              "       [0.001, 0.999],\n",
              "       [0.032, 0.968],\n",
              "       [0.802, 0.198],\n",
              "       [0.928, 0.072],\n",
              "       [0.957, 0.043],\n",
              "       [0.092, 0.908],\n",
              "       [0.016, 0.984],\n",
              "       [0.152, 0.848],\n",
              "       [0.969, 0.031],\n",
              "       [0.937, 0.063],\n",
              "       [0.861, 0.139],\n",
              "       [0.037, 0.963],\n",
              "       [0.645, 0.355],\n",
              "       [0.001, 0.999],\n",
              "       [0.045, 0.955],\n",
              "       [0.055, 0.945],\n",
              "       [0.007, 0.993],\n",
              "       [0.998, 0.002],\n",
              "       [0.925, 0.075],\n",
              "       [0.97 , 0.03 ],\n",
              "       [0.997, 0.003],\n",
              "       [0.001, 0.999],\n",
              "       [0.003, 0.997],\n",
              "       [0.009, 0.991],\n",
              "       [0.015, 0.985],\n",
              "       [0.969, 0.031],\n",
              "       [0.936, 0.064],\n",
              "       [0.966, 0.034],\n",
              "       [0.983, 0.017],\n",
              "       [0.004, 0.996],\n",
              "       [0.   , 1.   ],\n",
              "       [0.   , 1.   ],\n",
              "       [0.317, 0.683],\n",
              "       [0.989, 0.011],\n",
              "       [0.773, 0.227],\n",
              "       [0.233, 0.767],\n",
              "       [0.985, 0.015],\n",
              "       [0.222, 0.778],\n",
              "       [0.003, 0.997],\n",
              "       [0.001, 0.999],\n",
              "       [0.004, 0.996],\n",
              "       [0.998, 0.002],\n",
              "       [0.981, 0.019],\n",
              "       [0.81 , 0.19 ],\n",
              "       [0.109, 0.891],\n",
              "       [0.   , 1.   ],\n",
              "       [0.048, 0.952],\n",
              "       [0.   , 1.   ],\n",
              "       [0.006, 0.994],\n",
              "       [0.96 , 0.04 ],\n",
              "       [0.998, 0.002],\n",
              "       [0.001, 0.999],\n",
              "       [0.984, 0.016],\n",
              "       [0.008, 0.992],\n",
              "       [0.001, 0.999],\n",
              "       [0.904, 0.096],\n",
              "       [0.003, 0.997],\n",
              "       [0.001, 0.999],\n",
              "       [0.023, 0.977],\n",
              "       [0.936, 0.064],\n",
              "       [0.001, 0.999],\n",
              "       [0.937, 0.063],\n",
              "       [0.009, 0.991],\n",
              "       [0.204, 0.796],\n",
              "       [0.999, 0.001],\n",
              "       [0.033, 0.967],\n",
              "       [0.168, 0.832],\n",
              "       [0.   , 1.   ],\n",
              "       [0.001, 0.999],\n",
              "       [0.001, 0.999],\n",
              "       [0.913, 0.087],\n",
              "       [0.377, 0.623],\n",
              "       [0.03 , 0.97 ],\n",
              "       [0.975, 0.025],\n",
              "       [0.023, 0.977],\n",
              "       [0.955, 0.045],\n",
              "       [1.   , 0.   ],\n",
              "       [0.002, 0.998],\n",
              "       [0.922, 0.078],\n",
              "       [0.991, 0.009],\n",
              "       [0.008, 0.992],\n",
              "       [0.973, 0.027],\n",
              "       [0.9  , 0.1  ],\n",
              "       [0.653, 0.347],\n",
              "       [0.025, 0.975],\n",
              "       [0.007, 0.993],\n",
              "       [0.986, 0.014],\n",
              "       [0.009, 0.991],\n",
              "       [0.951, 0.049],\n",
              "       [0.   , 1.   ],\n",
              "       [0.   , 1.   ],\n",
              "       [0.02 , 0.98 ],\n",
              "       [0.004, 0.996],\n",
              "       [0.796, 0.204],\n",
              "       [0.008, 0.992],\n",
              "       [0.997, 0.003],\n",
              "       [0.002, 0.998],\n",
              "       [0.008, 0.992],\n",
              "       [0.006, 0.994],\n",
              "       [0.97 , 0.03 ],\n",
              "       [0.   , 1.   ],\n",
              "       [0.086, 0.914],\n",
              "       [1.   , 0.   ],\n",
              "       [0.99 , 0.01 ],\n",
              "       [0.927, 0.073],\n",
              "       [0.001, 0.999],\n",
              "       [0.812, 0.188],\n",
              "       [0.998, 0.002],\n",
              "       [0.   , 1.   ],\n",
              "       [0.999, 0.001],\n",
              "       [0.004, 0.996],\n",
              "       [0.002, 0.998],\n",
              "       [0.967, 0.033],\n",
              "       [0.986, 0.014],\n",
              "       [0.024, 0.976],\n",
              "       [0.001, 0.999],\n",
              "       [0.001, 0.999],\n",
              "       [0.062, 0.938],\n",
              "       [0.   , 1.   ],\n",
              "       [0.999, 0.001],\n",
              "       [0.02 , 0.98 ],\n",
              "       [0.094, 0.906],\n",
              "       [0.948, 0.052],\n",
              "       [0.002, 0.998],\n",
              "       [0.588, 0.412],\n",
              "       [0.972, 0.028],\n",
              "       [0.009, 0.991],\n",
              "       [0.996, 0.004],\n",
              "       [0.001, 0.999],\n",
              "       [0.33 , 0.67 ],\n",
              "       [0.989, 0.011],\n",
              "       [1.   , 0.   ],\n",
              "       [0.97 , 0.03 ],\n",
              "       [0.001, 0.999],\n",
              "       [0.007, 0.993],\n",
              "       [1.   , 0.   ],\n",
              "       [0.52 , 0.48 ],\n",
              "       [0.889, 0.111],\n",
              "       [0.997, 0.003],\n",
              "       [0.001, 0.999],\n",
              "       [0.956, 0.044],\n",
              "       [0.998, 0.002],\n",
              "       [0.015, 0.985],\n",
              "       [0.801, 0.199],\n",
              "       [0.998, 0.002],\n",
              "       [0.002, 0.998],\n",
              "       [0.326, 0.674],\n",
              "       [0.   , 1.   ],\n",
              "       [0.959, 0.041],\n",
              "       [0.896, 0.104],\n",
              "       [0.017, 0.983],\n",
              "       [0.221, 0.779],\n",
              "       [0.765, 0.235],\n",
              "       [0.985, 0.015],\n",
              "       [0.983, 0.017],\n",
              "       [0.   , 1.   ],\n",
              "       [0.002, 0.998],\n",
              "       [0.045, 0.955],\n",
              "       [0.933, 0.067],\n",
              "       [0.006, 0.994],\n",
              "       [0.1  , 0.9  ],\n",
              "       [0.962, 0.038],\n",
              "       [0.999, 0.001],\n",
              "       [0.993, 0.007],\n",
              "       [0.001, 0.999],\n",
              "       [0.036, 0.964],\n",
              "       [0.   , 1.   ],\n",
              "       [0.978, 0.022],\n",
              "       [0.898, 0.102],\n",
              "       [0.949, 0.051],\n",
              "       [0.993, 0.007],\n",
              "       [0.883, 0.117],\n",
              "       [0.012, 0.988],\n",
              "       [0.973, 0.027],\n",
              "       [0.   , 1.   ],\n",
              "       [1.   , 0.   ],\n",
              "       [0.035, 0.965],\n",
              "       [0.116, 0.884],\n",
              "       [0.005, 0.995],\n",
              "       [0.008, 0.992],\n",
              "       [0.932, 0.068],\n",
              "       [0.813, 0.187],\n",
              "       [0.966, 0.034],\n",
              "       [0.915, 0.085]])"
            ]
          },
          "metadata": {},
          "execution_count": 35
        }
      ]
    },
    {
      "cell_type": "code",
      "source": [
        "from sklearn.metrics import roc_curve"
      ],
      "metadata": {
        "id": "Mzs9ARmCD5Z9"
      },
      "execution_count": 36,
      "outputs": []
    },
    {
      "cell_type": "code",
      "source": [
        "fpr1,tpr1,thresh1 = roc_curve(y_test,pred_proba1[:,1],pos_label=1)\n",
        "fpr2,tpr2,thresh2 = roc_curve(y_test,pred_proba2[:,1],pos_label=1)"
      ],
      "metadata": {
        "id": "nltyN19CEMKG"
      },
      "execution_count": 38,
      "outputs": []
    },
    {
      "cell_type": "code",
      "source": [
        "fpr1"
      ],
      "metadata": {
        "colab": {
          "base_uri": "https://localhost:8080/"
        },
        "id": "UEoKUObRExDH",
        "outputId": "b0d179b9-a422-4734-a9c1-e04fd5111e4e"
      },
      "execution_count": 39,
      "outputs": [
        {
          "output_type": "execute_result",
          "data": {
            "text/plain": [
              "array([0.        , 0.        , 0.        , 0.01052632, 0.01052632,\n",
              "       0.02105263, 0.02105263, 0.03157895, 0.03157895, 0.04210526,\n",
              "       0.04210526, 0.05263158, 0.05263158, 0.06315789, 0.06315789,\n",
              "       0.24210526, 0.24210526, 1.        ])"
            ]
          },
          "metadata": {},
          "execution_count": 39
        }
      ]
    },
    {
      "cell_type": "code",
      "source": [
        "tpr1"
      ],
      "metadata": {
        "colab": {
          "base_uri": "https://localhost:8080/"
        },
        "id": "V8FGjhPrE9fT",
        "outputId": "a286af9d-00e0-47dd-d05f-3bb27a299c9f"
      },
      "execution_count": 40,
      "outputs": [
        {
          "output_type": "execute_result",
          "data": {
            "text/plain": [
              "array([0.        , 0.00952381, 0.46666667, 0.46666667, 0.7047619 ,\n",
              "       0.7047619 , 0.8       , 0.8       , 0.80952381, 0.80952381,\n",
              "       0.88571429, 0.88571429, 0.93333333, 0.93333333, 0.99047619,\n",
              "       0.99047619, 1.        , 1.        ])"
            ]
          },
          "metadata": {},
          "execution_count": 40
        }
      ]
    },
    {
      "cell_type": "code",
      "source": [
        "from sklearn.metrics import roc_auc_score"
      ],
      "metadata": {
        "id": "M3lSX2cBE_SR"
      },
      "execution_count": 41,
      "outputs": []
    },
    {
      "cell_type": "code",
      "source": [
        "auc_score1 = roc_auc_score(y_test,pred_proba1[:,1])\n",
        "auc_score2 = roc_auc_score(y_test,pred_proba2[:,1])"
      ],
      "metadata": {
        "id": "XNUx_KNzFGMp"
      },
      "execution_count": 42,
      "outputs": []
    },
    {
      "cell_type": "code",
      "source": [
        "print(auc_score1)"
      ],
      "metadata": {
        "colab": {
          "base_uri": "https://localhost:8080/"
        },
        "id": "FqysJDHhFeA2",
        "outputId": "d3edd5c8-e8f5-4bca-87b9-b332e738afed"
      },
      "execution_count": 43,
      "outputs": [
        {
          "output_type": "stream",
          "name": "stdout",
          "text": [
            "0.9835588972431077\n"
          ]
        }
      ]
    },
    {
      "cell_type": "code",
      "source": [
        "print(auc_score2)"
      ],
      "metadata": {
        "colab": {
          "base_uri": "https://localhost:8080/"
        },
        "id": "uywOOZd9Fhet",
        "outputId": "97a70e70-11a4-435c-f902-e549c939c118"
      },
      "execution_count": 44,
      "outputs": [
        {
          "output_type": "stream",
          "name": "stdout",
          "text": [
            "0.9771428571428572\n"
          ]
        }
      ]
    },
    {
      "cell_type": "code",
      "source": [
        "plt.plot(fpr1,tpr1,color='orange',ls='--')\n",
        "plt.plot(fpr2,tpr2,color='green',ls='--')\n",
        "plt.xlabel('FRP')\n",
        "plt.ylabel('TRP')\n",
        "plt.show()"
      ],
      "metadata": {
        "colab": {
          "base_uri": "https://localhost:8080/",
          "height": 449
        },
        "id": "VorDfzvGFleT",
        "outputId": "01ac744e-fe66-4be6-8f45-72acfcad70c0"
      },
      "execution_count": 47,
      "outputs": [
        {
          "output_type": "display_data",
          "data": {
            "text/plain": [
              "<Figure size 640x480 with 1 Axes>"
            ],
            "image/png": "[encoded data removed]"
          },
          "metadata": {}
        }
      ]
    },
    {
      "cell_type": "code",
      "source": [],
      "metadata": {
        "id": "AM9osWVOGAKm"
      },
      "execution_count": null,
      "outputs": []
    }
  ]
}